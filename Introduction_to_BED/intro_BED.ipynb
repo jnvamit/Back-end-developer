{
 "cells": [
  {
   "attachments": {},
   "cell_type": "markdown",
   "metadata": {},
   "source": [
    "<pre>\n",
    "Key terms:\n",
    "    -Web Pages\n",
    "    -Web Servers\n",
    "    -Web Browsers\n",
    "    -Browser Developer tools\n",
    "    -Software Integrated Development Environment\n",
    "    -Bootstrap\n",
    "    -User interface\n",
    "    -React\n",
    "    -Static vs Dynamic content\n",
    "\n",
    "Core Internet Technologies:\n",
    "    -HTML\n",
    "        -Text\n",
    "        -Images\n",
    "        -Multimedia\n",
    "        -Accessibility\n",
    "    -CSS\n",
    "    -Javascript    \n",
    "</pre>"
   ]
  },
  {
   "attachments": {},
   "cell_type": "markdown",
   "metadata": {},
   "source": [
    "<pre>\n",
    "-How internet works\n",
    "    -Network\n",
    "    -Network switch\n",
    "    -Incoconnected Network == internet\n",
    "    -A network is made up of at least two devices that connect and communicate via wired or wireless connectins.\n",
    "     One network switch can connect to another switch to link two networks.\n",
    "\n",
    "-What is a web server and how does it work?\n",
    "\n",
    "</pre>"
   ]
  }
 ],
 "metadata": {
  "language_info": {
   "name": "python"
  },
  "orig_nbformat": 4
 },
 "nbformat": 4,
 "nbformat_minor": 2
}
